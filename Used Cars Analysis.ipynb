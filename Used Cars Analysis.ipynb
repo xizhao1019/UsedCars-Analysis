{
 "cells": [
  {
   "cell_type": "code",
   "execution_count": null,
   "metadata": {},
   "outputs": [],
   "source": [
    "import pandas as pd\n",
    "import numpy as np\n",
    "import matplotlib.pyplot as plt\n",
    "import seaborn as sns\n",
    "from pandas.plotting import scatter_matrix\n",
    "from matplotlib import rc\n",
    "import plotly.graph_objs as go\n",
    "from sklearn import preprocessing\n",
    "import statsmodels.api as sm\n",
    "from sklearn.model_selection import train_test_split\n",
    "from sklearn.linear_model import LinearRegression\n",
    "from sklearn.feature_selection import RFE\n",
    "from sklearn.linear_model import RidgeCV, LassoCV, Ridge, Lasso\n",
    "from sklearn import metrics\n",
    "from sklearn.metrics import r2_score\n",
    "import math\n",
    "from sklearn.metrics import mean_squared_error as MSE\n",
    "from sklearn import tree\n",
    "from sklearn.tree import export_graphviz\n",
    "from sklearn.ensemble import RandomForestRegressor"
   ]
  },
  {
   "cell_type": "markdown",
   "metadata": {},
   "source": [
    "### Import Data"
   ]
  },
  {
   "cell_type": "code",
   "execution_count": null,
   "metadata": {},
   "outputs": [],
   "source": [
    "vehicles = pd.read_csv(\"vehicles.csv\")\n",
    "vehicles.info()"
   ]
  },
  {
   "cell_type": "markdown",
   "metadata": {},
   "source": [
    "### Clean data"
   ]
  },
  {
   "cell_type": "code",
   "execution_count": null,
   "metadata": {
    "scrolled": true
   },
   "outputs": [],
   "source": [
    "#select useful columns and drop null values\n",
    "data = vehicles[['region', 'price', 'year', 'manufacturer','model', 'condition', 'cylinders', 'fuel',\n",
    "             'odometer', 'title_status','transmission', 'drive', 'size', 'type', 'paint_color','state','lat','long','posting_date']]\n",
    "data = data.dropna()\n",
    "data.info()"
   ]
  },
  {
   "cell_type": "code",
   "execution_count": null,
   "metadata": {},
   "outputs": [],
   "source": [
    "data.shape"
   ]
  },
  {
   "cell_type": "code",
   "execution_count": null,
   "metadata": {
    "scrolled": true
   },
   "outputs": [],
   "source": [
    "#convert data type\n",
    "#convert 'year' and 'post_date' data type\n",
    "data['year'] = data['year'].astype(int)\n",
    "data['posting_date'] = pd.to_datetime(data['posting_date'], utc=True)\n",
    "data.info()"
   ]
  },
  {
   "cell_type": "code",
   "execution_count": null,
   "metadata": {},
   "outputs": [],
   "source": [
    "#only analyze cars produced after 2000\n",
    "data = data.loc[data.year>1999, :]\n",
    "data['age'] = data.year.apply(lambda x: int(2021-x))\n",
    "data.shape"
   ]
  },
  {
   "cell_type": "markdown",
   "metadata": {},
   "source": [
    "### Descriptive analysis"
   ]
  },
  {
   "cell_type": "markdown",
   "metadata": {},
   "source": [
    "#### The top manufacturers, types, models and colors"
   ]
  },
  {
   "cell_type": "code",
   "execution_count": null,
   "metadata": {
    "scrolled": false
   },
   "outputs": [],
   "source": [
    "fig, ax =plt.subplots(2,2,figsize=(25, 15))\n",
    "plt.rcParams[\"axes.labelsize\"] = 20\n",
    "plt.rcParams[\"axes.grid\"] = False\n",
    "a = sns.countplot(x ='manufacturer',data = data,order=data.manufacturer.value_counts().iloc[:10].index, \n",
    "              ax = ax[0][0],palette=\"ch:start=.2,rot=-.3\")\n",
    "a.set_xlabel(\"Manufacturer\", fontsize = 20)\n",
    "a.set_ylabel(\"Count\", fontsize = 20)\n",
    "a.tick_params(labelsize=15)\n",
    "\n",
    "b = sns.countplot(x ='type',data = data,order=data.type.value_counts().iloc[:10].index, \n",
    "              ax = ax[0][1],palette=\"ch:s=-.2,r=.6\")\n",
    "b.set_xlabel(\"Type\", fontsize = 20)\n",
    "b.set_ylabel(\"Count\", fontsize = 20)\n",
    "b.tick_params(labelsize=15)\n",
    "\n",
    "c = sns.countplot(x ='model',data = data,order=data.model.value_counts().iloc[:10].index, \n",
    "              ax = ax[1][0],palette=\"YlOrBr\")\n",
    "c.set_xlabel(\"Model\", fontsize = 20)\n",
    "c.set_ylabel(\"Count\", fontsize = 20)\n",
    "c.tick_params(labelsize=15)\n",
    "c.set_xticklabels(c.get_xticklabels(),rotation=20)\n",
    "\n",
    "d = sns.countplot(x ='paint_color',data = data,order=data.paint_color.value_counts().iloc[:10].index, \n",
    "              ax = ax[1][1],palette=\"crest\")\n",
    "d.set_xlabel(\"Color\", fontsize = 20)\n",
    "d.set_ylabel(\"Count\", fontsize = 20)\n",
    "d.tick_params(labelsize=15);"
   ]
  },
  {
   "cell_type": "markdown",
   "metadata": {},
   "source": [
    "#### The distribution of the age of the used cars"
   ]
  },
  {
   "cell_type": "code",
   "execution_count": null,
   "metadata": {},
   "outputs": [],
   "source": [
    "# age distribution\n",
    "plt.figure(figsize=(10,5))\n",
    "plt.rcParams[\"axes.labelsize\"] = 15\n",
    "plt.title(\"Density plot of the Age of the Used Cars\")\n",
    "plt.xlabel(\"Age of the Used Car\")\n",
    "stat = sns.kdeplot(data.age)"
   ]
  },
  {
   "cell_type": "code",
   "execution_count": null,
   "metadata": {
    "scrolled": false
   },
   "outputs": [],
   "source": [
    "# Types of used cars from different manufacturers for sale\n",
    "\n",
    "manu_type = data.groupby('manufacturer').type.value_counts()\n",
    "manu_type_df = pd.DataFrame(manu_type.unstack())\n",
    "\n",
    "plt.subplots(figsize=(20, 10))\n",
    "h1 = sns.heatmap(manu_type_df, cmap='Blues', linecolor='white', linewidth=1)\n",
    "h1.set_xlabel(\"Type\", fontsize = 20)\n",
    "h1.set_ylabel(\"Manufacturer\", fontsize = 20)\n",
    "h1.tick_params(labelsize=15);"
   ]
  },
  {
   "cell_type": "markdown",
   "metadata": {},
   "source": [
    "#### Manufacturer with most used cars for sale each year"
   ]
  },
  {
   "cell_type": "code",
   "execution_count": null,
   "metadata": {
    "scrolled": false
   },
   "outputs": [],
   "source": [
    "manf_sale_year = data.groupby('year').manufacturer.value_counts()\n",
    "manf_sale_year_df = pd.DataFrame(manf_sale_year.unstack())\n",
    "\n",
    "plt.subplots(figsize=(20, 10))\n",
    "h2 = sns.heatmap(manf_sale_year_df, cmap='icefire', linecolor='white', linewidth=1)\n",
    "h2.set_xlabel(\"Manufacturer\", fontsize = 20)\n",
    "h2.set_ylabel(\"Year\", fontsize = 20)\n",
    "h2.tick_params(labelsize=15);"
   ]
  },
  {
   "cell_type": "code",
   "execution_count": null,
   "metadata": {},
   "outputs": [],
   "source": [
    "# Time series for for-sale used cars of top 5 manufacurers each year\n",
    "manf_sale_year_df2 = manf_sale_year_df[['ford','chevrolet','toyota','honda','nissan']].copy()\n",
    "fig, ax = plt.subplots(figsize=(18, 10))\n",
    "m = sns.lineplot(data=manf_sale_year_df2)\n",
    "ax.set_xlim(2000,2021)\n",
    "ax.set_xticks(range(2000,2021))\n",
    "m.set_xlabel(\"Year\", fontsize = 20)\n",
    "m.set_ylabel(\"Count\", fontsize = 20)\n",
    "m.tick_params(labelsize=15)\n",
    "plt.show()"
   ]
  },
  {
   "cell_type": "markdown",
   "metadata": {},
   "source": [
    "#### The posted price of the used cars"
   ]
  },
  {
   "cell_type": "code",
   "execution_count": null,
   "metadata": {
    "scrolled": false
   },
   "outputs": [],
   "source": [
    "#price mean\n",
    "price_mean_manu = data[['price','manufacturer']].groupby('manufacturer').mean().sort_values(by=['price'], ascending=False)\n",
    "price_mean_type = data[['price','type']].groupby('type').mean().sort_values(by=['price'], ascending=False)\n",
    "price_mean_color = data[['price','paint_color']].groupby('paint_color').mean().sort_values(by=['price'], ascending=False)\n",
    "\n",
    "\n",
    "fig, ax =plt.subplots(1,3,figsize=(25, 15))\n",
    "fig.tight_layout(pad=10)\n",
    "ap = sns.barplot(x = 'price',y = price_mean_manu.index[:10],data=price_mean_manu.iloc[:10], \n",
    "              ax = ax[0],palette=\"ch:start=.2,rot=-.3\")\n",
    "ap.set_xlabel(\"Price Mean\", fontsize = 20)\n",
    "ap.set_ylabel(\"Manufacturer\", fontsize = 20)\n",
    "ap.tick_params(labelsize=15)\n",
    "\n",
    "bp = sns.barplot(x = 'price',y = price_mean_type.index[:10],data=price_mean_type.iloc[:10], \n",
    "              ax = ax[1],palette=\"ch:s=-.2,r=.6\")\n",
    "bp.set_xlabel(\"Price Mean\", fontsize = 20)\n",
    "bp.set_ylabel(\"Type\", fontsize = 20)\n",
    "bp.tick_params(labelsize=15)\n",
    "\n",
    "cp = sns.barplot(x = 'price',y = price_mean_color.index[:10],data=price_mean_color.iloc[:10], \n",
    "              ax = ax[2],palette=\"YlOrBr\")\n",
    "cp.set_xlabel(\"Price Mean\", fontsize = 20)\n",
    "cp.set_ylabel(\"Color\", fontsize = 20)\n",
    "cp.tick_params(labelsize=15);"
   ]
  },
  {
   "cell_type": "markdown",
   "metadata": {},
   "source": [
    "#### The region comparison of the for-sale used cars"
   ]
  },
  {
   "cell_type": "code",
   "execution_count": null,
   "metadata": {
    "scrolled": false
   },
   "outputs": [],
   "source": [
    "location = data[(data['lat']>24) & (data['lat']<50) & (data['long']>-125) & (data['long']<-65)]\n",
    "manu_loc = location[(location['manufacturer']=='ford') | \n",
    "                (location['manufacturer']=='chevrolet')| \n",
    "                (location['manufacturer']=='toyota')| \n",
    "                (location['manufacturer']=='honda')| \n",
    "                (location['manufacturer']=='nissan')]\n",
    "plt.figure(figsize=(18,10))\n",
    "plt.title('Manufacturer Compare by State')\n",
    "sns.scatterplot(data=manu_loc, x=\"long\",y=\"lat\",hue='manufacturer')\n",
    "plt.show()"
   ]
  },
  {
   "cell_type": "markdown",
   "metadata": {},
   "source": [
    "### Correlation analysis"
   ]
  },
  {
   "cell_type": "markdown",
   "metadata": {},
   "source": [
    "#### Using Pearson Correlation"
   ]
  },
  {
   "cell_type": "code",
   "execution_count": null,
   "metadata": {},
   "outputs": [],
   "source": [
    "vehicles.info()"
   ]
  },
  {
   "cell_type": "code",
   "execution_count": null,
   "metadata": {},
   "outputs": [],
   "source": [
    "vehicles.drop(['id', 'url','region_url', 'VIN', 'image_url', 'lat', 'long', 'description'], axis=1, inplace=True)\n",
    "print(vehicles.isnull().sum())"
   ]
  },
  {
   "cell_type": "code",
   "execution_count": null,
   "metadata": {},
   "outputs": [],
   "source": [
    "# sorting columns based on their total null\n",
    "null_val = pd.DataFrame(vehicles.isnull().sum(), columns = ['Nan_sum'])\n",
    "null_val = null_val[null_val['Nan_sum']>0]\n",
    "null_val['Percentage'] = (null_val['Nan_sum']/len(vehicles))*100\n",
    "null_val = null_val.sort_values(by=['Nan_sum'], ascending=False)\n",
    "null_val"
   ]
  },
  {
   "cell_type": "markdown",
   "metadata": {},
   "source": [
    "We can treat those columns whose null values differently depends on the project's goal. For the sake of this project, we are only going to keep columns which have less than 40% of missing values."
   ]
  },
  {
   "cell_type": "code",
   "execution_count": null,
   "metadata": {},
   "outputs": [],
   "source": [
    "vehicles_cleaned = vehicles[['cylinders','paint_color','drive','type','odometer','manufacturer','model','fuel','title_status','transmission','year','posting_date']]\n",
    "vehicles_cleaned.shape"
   ]
  },
  {
   "cell_type": "markdown",
   "metadata": {},
   "source": [
    "we will drop all rows with missing values."
   ]
  },
  {
   "cell_type": "code",
   "execution_count": null,
   "metadata": {},
   "outputs": [],
   "source": [
    "vehicles_data = vehicles_cleaned.dropna()\n",
    "vehicles_data"
   ]
  },
  {
   "cell_type": "markdown",
   "metadata": {},
   "source": [
    "**Handling outliers.**"
   ]
  },
  {
   "cell_type": "code",
   "execution_count": null,
   "metadata": {},
   "outputs": [],
   "source": [
    "plt.figure(figsize=(3,6))\n",
    "sns.boxplot(y='price', data=vehicles_df,showfliers=False);"
   ]
  },
  {
   "cell_type": "code",
   "execution_count": null,
   "metadata": {},
   "outputs": [],
   "source": [
    "vehicles_df.price.min()"
   ]
  },
  {
   "cell_type": "markdown",
   "metadata": {},
   "source": [
    "Price of the vehicle can never be zero. So, we will remove rows with price as 0."
   ]
  },
  {
   "cell_type": "code",
   "execution_count": null,
   "metadata": {},
   "outputs": [],
   "source": [
    "vehicles_df = vehicles_df[vehicles_df['price']>0]"
   ]
  },
  {
   "cell_type": "code",
   "execution_count": null,
   "metadata": {},
   "outputs": [],
   "source": [
    "vehicles_df.shape"
   ]
  },
  {
   "cell_type": "code",
   "execution_count": null,
   "metadata": {},
   "outputs": [],
   "source": [
    "y = vehicles_df['price']\n",
    "removed_outliers = y.between(y.quantile(.05), y.quantile(.95))\n",
    "removed_outliers"
   ]
  },
  {
   "cell_type": "code",
   "execution_count": null,
   "metadata": {},
   "outputs": [],
   "source": [
    "print(removed_outliers.value_counts())"
   ]
  },
  {
   "cell_type": "code",
   "execution_count": null,
   "metadata": {},
   "outputs": [],
   "source": [
    "index_names = vehicles_df[~removed_outliers].index # INVERT removed_outliers!!\n",
    "vehicles_df.drop(index_names, inplace=True)\n",
    "vehicles_df.describe()"
   ]
  },
  {
   "cell_type": "code",
   "execution_count": null,
   "metadata": {},
   "outputs": [],
   "source": [
    "plt.figure(figsize=(3,6))\n",
    "sns.boxplot(y='odometer', data=vehicles_df,showfliers=False);"
   ]
  },
  {
   "cell_type": "code",
   "execution_count": null,
   "metadata": {},
   "outputs": [],
   "source": [
    "vehicles_df"
   ]
  },
  {
   "cell_type": "code",
   "execution_count": null,
   "metadata": {},
   "outputs": [],
   "source": [
    "vehicles_df.price.min()\n",
    "\n",
    "Price of the vehicle can never be zero. So, we will remove rows with price as 0.\n",
    "\n",
    "vehicles_df = vehicles_df[vehicles_df['price']>0]\n",
    "\n",
    "vehicles_df.shape\n",
    "\n",
    "y = vehicles_df['price']\n",
    "removed_outliers = y.between(y.quantile(.05), y.quantile(.95))\n",
    "removed_outliers\n",
    "\n",
    "print(removed_outliers.value_counts())\n",
    "\n",
    "index_names = vehicles_df[~removed_outliers].index # INVERT removed_outliers!!\n",
    "vehicles_df.drop(index_names, inplace=True)\n",
    "vehicles_df.describe()\n",
    "\n",
    "plt.figure(figsize=(3,6))\n",
    "sns.boxplot(y='odometer', data=vehicles_df,showfliers=False);\n",
    "\n",
    "vehicles_df"
   ]
  },
  {
   "cell_type": "markdown",
   "metadata": {},
   "source": [
    "**Put price at the front of all column since we are predicting price relations.**"
   ]
  },
  {
   "cell_type": "code",
   "execution_count": null,
   "metadata": {},
   "outputs": [],
   "source": [
    "vehicles_df = vehicles_df[['price','region','year','manufacturer','model','cylinders','fuel','odometer','title_status','transmission','drive','type','paint_color','state']]"
   ]
  },
  {
   "cell_type": "code",
   "execution_count": null,
   "metadata": {},
   "outputs": [],
   "source": [
    "sns.catplot(y=\"manufacturer\", x=\"price\",kind=\"boxen\", data=vehicles_df)"
   ]
  },
  {
   "cell_type": "code",
   "execution_count": null,
   "metadata": {},
   "outputs": [],
   "source": [
    "sns.violinplot(x=vehicles_df.fuel, y=vehicles_df.price)"
   ]
  },
  {
   "cell_type": "code",
   "execution_count": null,
   "metadata": {},
   "outputs": [],
   "source": [
    "sns.catplot(y=\"type\", x=\"price\",kind=\"violin\", data=vehicles_df)"
   ]
  },
  {
   "cell_type": "code",
   "execution_count": null,
   "metadata": {},
   "outputs": [],
   "source": [
    "y = vehicles_df['price']\n",
    "x = vehicles_df['year']\n",
    "plt.scatter(x, y)\n",
    "plt.xlabel('year')\n",
    "plt.ylabel('price')\n",
    "plt.show()"
   ]
  },
  {
   "cell_type": "markdown",
   "metadata": {},
   "source": [
    "We will use Label Encoder since we have many categories for categorical variables. Label encoding can help us converting each value in a column to a number which makes it easier to use in predictive modeling."
   ]
  },
  {
   "cell_type": "code",
   "execution_count": null,
   "metadata": {},
   "outputs": [],
   "source": [
    "laborE = preprocessing.LabelEncoder()"
   ]
  },
  {
   "cell_type": "code",
   "execution_count": null,
   "metadata": {},
   "outputs": [],
   "source": [
    "vehicles_df"
   ]
  },
  {
   "cell_type": "code",
   "execution_count": null,
   "metadata": {},
   "outputs": [],
   "source": [
    "vehicles_df[['region','manufacturer','model','cylinders','fuel','title_status','transmission','drive'\n",
    "             ,'type','paint_color','state']] = vehicles_df[['region','manufacturer','model','cylinders','fuel','title_status',\n",
    "                                                            'transmission','drive','type','paint_color','state']].apply(laborE.fit_transform)"
   ]
  },
  {
   "cell_type": "code",
   "execution_count": null,
   "metadata": {},
   "outputs": [],
   "source": [
    "vehicles_df"
   ]
  },
  {
   "cell_type": "markdown",
   "metadata": {},
   "source": [
    "**Odometer is a feature with larger magnitude compare to rest of other features. We need to reduce the scale of it to prevent from dominating the prediction model and generate inaccurate result. MinMaxScaler can be used here to solve to problem.**"
   ]
  },
  {
   "cell_type": "code",
   "execution_count": null,
   "metadata": {},
   "outputs": [],
   "source": [
    "from sklearn.preprocessing import MinMaxScaler\n",
    "vehicles_df[\"odometer\"] = np.sqrt(preprocessing.minmax_scale(vehicles_df[\"odometer\"]));"
   ]
  },
  {
   "cell_type": "code",
   "execution_count": null,
   "metadata": {},
   "outputs": [],
   "source": [
    "vehicles_df"
   ]
  },
  {
   "cell_type": "markdown",
   "metadata": {},
   "source": [
    "### Predictive Modeling."
   ]
  },
  {
   "cell_type": "markdown",
   "metadata": {},
   "source": [
    "**Multiple Linear Regression**\n"
   ]
  },
  {
   "cell_type": "markdown",
   "metadata": {},
   "source": [
    "**(1) Filter Method**"
   ]
  },
  {
   "cell_type": "code",
   "execution_count": null,
   "metadata": {},
   "outputs": [],
   "source": [
    "plt.figure(figsize=(12,10))\n",
    "cor = vehicles_df.corr()\n",
    "sns.heatmap(cor, annot=True, cmap=plt.cm.Reds)\n",
    "plt.show()"
   ]
  },
  {
   "cell_type": "markdown",
   "metadata": {},
   "source": [
    "**As we can see from the heatmap that drive, odometer, cylinders, transmission, and year have relatively high postive and negative relationship with price. So we will drop the features apart from this.**\n",
    "\n",
    "**Independent variables need to be independent with each other. We also need to check if these variables are related with each other.**"
   ]
  },
  {
   "cell_type": "code",
   "execution_count": null,
   "metadata": {},
   "outputs": [],
   "source": [
    "print(vehicles_df[[\"drive\",\"odometer\"]].corr())\n",
    "print(vehicles_df[[\"odometer\",\"cylinders\"]].corr())\n",
    "print(vehicles_df[[\"cylinders\",\"transmission\"]].corr())\n",
    "print(vehicles_df[[\"transmission\",\"year\"]].corr())\n",
    "print(vehicles_df[[\"year\",\"drive\"]].corr())"
   ]
  },
  {
   "cell_type": "markdown",
   "metadata": {},
   "source": [
    "**It doesn't seem that none of these feature have high relation with each other.**"
   ]
  },
  {
   "cell_type": "code",
   "execution_count": null,
   "metadata": {},
   "outputs": [],
   "source": [
    "features_p = vehicles_df[[\"drive\",\"odometer\",\"cylinders\",\"transmission\",\"year\"]]\n",
    "target_p = vehicles_df[[\"price\"]]"
   ]
  },
  {
   "cell_type": "code",
   "execution_count": null,
   "metadata": {},
   "outputs": [],
   "source": [
    "#splitting our dataset randomly with the test data containing 25% of the data,\n",
    "x_train, x_test, y_train, y_test = train_test_split(features_p,target_p, \n",
    "                                                    test_size=0.25, \n",
    "                                                    random_state=0)\n",
    "\n",
    "print('Our training prediction variable contains :',len(y_train) ,'rows')\n",
    "print('Our training independent variable contains :',len(x_train) ,'rows')\n",
    "print('Our testing prediction variable contains :',len(y_test) ,'rows')\n",
    "print('Our testing independent variable contains :',len(x_test) ,'rows')"
   ]
  },
  {
   "cell_type": "code",
   "execution_count": null,
   "metadata": {},
   "outputs": [],
   "source": [
    "#applied regression model with Pearson Correlation method\n",
    "reg_model_p = LinearRegression()"
   ]
  },
  {
   "cell_type": "code",
   "execution_count": null,
   "metadata": {},
   "outputs": [],
   "source": [
    "reg_model_p.fit(x_train, y_train)\n",
    "print('Intercept :', reg_model_p.intercept_[0], '\\n')\n",
    "print(pd.DataFrame({'features':x_train.columns,'coeficients':reg_model_p.coef_[0]}))\n"
   ]
  },
  {
   "cell_type": "code",
   "execution_count": null,
   "metadata": {},
   "outputs": [],
   "source": [
    "#prediction\n",
    "lr_pred_p = reg_model_p.predict(x_test)"
   ]
  },
  {
   "cell_type": "code",
   "execution_count": null,
   "metadata": {},
   "outputs": [],
   "source": [
    "print('Mean Absolute Error:', metrics.mean_absolute_error(y_test, lr_pred_p))\n",
    "print('Mean Squared Error:', metrics.mean_squared_error(y_test, lr_pred_p))\n",
    "print('Root Mean Squared Error:', np.sqrt(metrics.mean_squared_error(y_test, lr_pred_p)))"
   ]
  },
  {
   "cell_type": "code",
   "execution_count": null,
   "metadata": {},
   "outputs": [],
   "source": [
    "score = r2_score(y_test, lr_pred_p)\n",
    "score"
   ]
  },
  {
   "cell_type": "markdown",
   "metadata": {},
   "source": [
    "**(2) Backward Elimination Method**"
   ]
  },
  {
   "cell_type": "code",
   "execution_count": null,
   "metadata": {},
   "outputs": [],
   "source": [
    "features = vehicles_df.loc[:,vehicles_df.columns != 'price']\n",
    "target = vehicles_df.loc[:,vehicles_df.columns == 'price']"
   ]
  },
  {
   "cell_type": "code",
   "execution_count": null,
   "metadata": {},
   "outputs": [],
   "source": [
    "#Adding constant column of ones, mandatory for sm.OLS model\n",
    "X_1 = sm.add_constant(features)\n",
    "X_1\n",
    "#Fitting sm.OLS model\n",
    "model = sm.OLS(target,X_1).fit()\n",
    "model.pvalues"
   ]
  },
  {
   "cell_type": "code",
   "execution_count": null,
   "metadata": {},
   "outputs": [],
   "source": [
    "#Backward Elimination\n",
    "cols = list(features.columns)\n",
    "pmax = 1\n",
    "while (len(cols)>0):\n",
    "    p= []\n",
    "    X_1 = features[cols]\n",
    "    X_1 = sm.add_constant(X_1)\n",
    "    model = sm.OLS(target,X_1).fit()\n",
    "    p = pd.Series(model.pvalues.values[1:],index = cols)      \n",
    "    pmax = max(p)\n",
    "    feature_with_p_max = p.idxmax()\n",
    "    if(pmax>0.05):\n",
    "        cols.remove(feature_with_p_max)\n",
    "    else:\n",
    "        break\n",
    "selected_features_BE = cols\n",
    "print(selected_features_BE)"
   ]
  },
  {
   "cell_type": "code",
   "execution_count": null,
   "metadata": {},
   "outputs": [],
   "source": [
    "features_be = vehicles_df.loc[:,vehicles_df.columns != 'price']\n",
    "target_be = vehicles_df.loc[:,vehicles_df.columns == 'price']"
   ]
  },
  {
   "cell_type": "code",
   "execution_count": null,
   "metadata": {},
   "outputs": [],
   "source": [
    "#splitting our dataset randomly with the test data containing 25% of the data,\n",
    "X_train, X_test, y_train, y_test = train_test_split(features_be,target_be, \n",
    "                                                    test_size=0.25, \n",
    "                                                    random_state=0)\n",
    "\n",
    "print('Our training prediction variable contains :',len(y_train) ,'rows')\n",
    "print('Our training independent variable contains :',len(X_train) ,'rows')\n",
    "print('Our testing prediction variable contains :',len(y_test) ,'rows')\n",
    "print('Our testing independent variable contains :',len(X_test) ,'rows')"
   ]
  },
  {
   "cell_type": "code",
   "execution_count": null,
   "metadata": {},
   "outputs": [],
   "source": [
    "# run the regression model with backward elimination\n",
    "reg_model_back = LinearRegression()"
   ]
  },
  {
   "cell_type": "code",
   "execution_count": null,
   "metadata": {
    "scrolled": true
   },
   "outputs": [],
   "source": [
    "#fitting the training data to the model,\n",
    "reg_model_back.fit(X_train, y_train)\n",
    "#outputs the coefficients\n",
    "print('Intercept :', reg_model_back.intercept_[0], '\\n')\n",
    "print(pd.DataFrame({'features':X_train.columns,'coeficients':reg_model_back.coef_[0]}))"
   ]
  },
  {
   "cell_type": "code",
   "execution_count": null,
   "metadata": {},
   "outputs": [],
   "source": [
    "lr_pred_back = reg_model_back.predict(X_test)"
   ]
  },
  {
   "cell_type": "code",
   "execution_count": null,
   "metadata": {},
   "outputs": [],
   "source": [
    "print('Mean Absolute Error:', metrics.mean_absolute_error(y_test, lr_pred_back))\n",
    "print('Mean Squared Error:', metrics.mean_squared_error(y_test, lr_pred_back))\n",
    "print('Root Mean Squared Error:', np.sqrt(metrics.mean_squared_error(y_test, lr_pred_back)))"
   ]
  },
  {
   "cell_type": "code",
   "execution_count": null,
   "metadata": {},
   "outputs": [],
   "source": [
    "score = r2_score(y_test, lr_pred_back)\n",
    "score"
   ]
  },
  {
   "cell_type": "markdown",
   "metadata": {},
   "source": [
    "### Random Forest Regressor"
   ]
  },
  {
   "cell_type": "code",
   "execution_count": null,
   "metadata": {},
   "outputs": [],
   "source": [
    "rf = RandomForestRegressor(random_state=1).fit(x_train, y_train.values.ravel())\n",
    "rf_pred = rf.predict(x_test)"
   ]
  },
  {
   "cell_type": "code",
   "execution_count": null,
   "metadata": {},
   "outputs": [],
   "source": [
    "print('Mean Absolute Error:', metrics.mean_absolute_error(y_test, rf_pred))\n",
    "print('Mean Squared Error:', metrics.mean_squared_error(y_test, rf_pred))\n",
    "print('Root Mean Squared Error:', np.sqrt(metrics.mean_squared_error(y_test, rf_pred)))"
   ]
  },
  {
   "cell_type": "code",
   "execution_count": null,
   "metadata": {},
   "outputs": [],
   "source": [
    "score = r2_score(y_test, rf_pred)\n",
    "score"
   ]
  }
 ],
 "metadata": {
  "kernelspec": {
   "display_name": "Python 3",
   "language": "python",
   "name": "python3"
  },
  "language_info": {
   "codemirror_mode": {
    "name": "ipython",
    "version": 3
   },
   "file_extension": ".py",
   "mimetype": "text/x-python",
   "name": "python",
   "nbconvert_exporter": "python",
   "pygments_lexer": "ipython3",
   "version": "3.8.5"
  }
 },
 "nbformat": 4,
 "nbformat_minor": 4
}
