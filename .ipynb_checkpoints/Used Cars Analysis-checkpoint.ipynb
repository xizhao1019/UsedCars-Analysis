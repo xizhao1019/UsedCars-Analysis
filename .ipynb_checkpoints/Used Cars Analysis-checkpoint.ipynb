{
 "cells": [
  {
   "cell_type": "code",
   "execution_count": null,
   "metadata": {},
   "outputs": [],
   "source": [
    "import pandas as pd\n",
    "import numpy as np\n",
    "import matplotlib.pyplot as plt\n",
    "import seaborn as sns"
   ]
  },
  {
   "cell_type": "markdown",
   "metadata": {},
   "source": [
    "### Import Data"
   ]
  },
  {
   "cell_type": "code",
   "execution_count": null,
   "metadata": {},
   "outputs": [],
   "source": [
    "vehicles = pd.read_csv(\"vehicles.csv\")\n",
    "vehicles.info()"
   ]
  },
  {
   "cell_type": "markdown",
   "metadata": {},
   "source": [
    "### Clean data"
   ]
  },
  {
   "cell_type": "code",
   "execution_count": null,
   "metadata": {
    "scrolled": true
   },
   "outputs": [],
   "source": [
    "#select useful columns and drop null values\n",
    "data = vehicles[['region', 'price', 'year', 'manufacturer','model', 'condition', 'cylinders', 'fuel',\n",
    "             'odometer', 'title_status','transmission', 'drive', 'size', 'type', 'paint_color','state','lat','long','posting_date']]\n",
    "data = data.dropna()\n",
    "data.info()"
   ]
  },
  {
   "cell_type": "code",
   "execution_count": null,
   "metadata": {},
   "outputs": [],
   "source": [
    "data.shape"
   ]
  },
  {
   "cell_type": "code",
   "execution_count": null,
   "metadata": {},
   "outputs": [],
   "source": [
    "#convert data type\n",
    "#convert 'year' and 'post_date' data type\n",
    "data['year'] = data['year'].astype(int)\n",
    "data['posting_date'] = pd.to_datetime(data['posting_date'], utc=True)\n",
    "data.info()"
   ]
  },
  {
   "cell_type": "code",
   "execution_count": null,
   "metadata": {},
   "outputs": [],
   "source": [
    "#only analyze cars produced after 2000\n",
    "data = data.loc[data.year>1999, :]\n",
    "data['age'] = data.year.apply(lambda x: int(2021-x))\n",
    "data.shape"
   ]
  },
  {
   "cell_type": "markdown",
   "metadata": {},
   "source": [
    "### Descriptive analysis"
   ]
  },
  {
   "cell_type": "markdown",
   "metadata": {},
   "source": [
    "#### The top manufacturers, types, models and colors"
   ]
  },
  {
   "cell_type": "code",
   "execution_count": null,
   "metadata": {},
   "outputs": [],
   "source": [
    "data.model.value_counts().iloc[:10].index"
   ]
  },
  {
   "cell_type": "code",
   "execution_count": null,
   "metadata": {
    "scrolled": false
   },
   "outputs": [],
   "source": [
    "fig, ax =plt.subplots(2,2,figsize=(25, 15))\n",
    "plt.rcParams[\"axes.labelsize\"] = 20\n",
    "plt.rcParams[\"axes.grid\"] = False\n",
    "a = sns.countplot(x ='manufacturer',data = data,order=data.manufacturer.value_counts().iloc[:10].index, \n",
    "              ax = ax[0][0],palette=\"ch:start=.2,rot=-.3\")\n",
    "a.set_xlabel(\"Manufacturer\", fontsize = 20)\n",
    "a.set_ylabel(\"Count\", fontsize = 20)\n",
    "a.tick_params(labelsize=15)\n",
    "\n",
    "b = sns.countplot(x ='type',data = data,order=data.type.value_counts().iloc[:10].index, \n",
    "              ax = ax[0][1],palette=\"ch:s=-.2,r=.6\")\n",
    "b.set_xlabel(\"Type\", fontsize = 20)\n",
    "b.set_ylabel(\"Count\", fontsize = 20)\n",
    "b.tick_params(labelsize=15)\n",
    "\n",
    "c = sns.countplot(x ='model',data = data,order=data.model.value_counts().iloc[:10].index, \n",
    "              ax = ax[1][0],palette=\"YlOrBr\")\n",
    "c.set_xlabel(\"Model\", fontsize = 20)\n",
    "c.set_ylabel(\"Count\", fontsize = 20)\n",
    "c.tick_params(labelsize=15)\n",
    "c.set_xticklabels(c.get_xticklabels(),rotation=20)\n",
    "\n",
    "d = sns.countplot(x ='paint_color',data = data,order=data.paint_color.value_counts().iloc[:10].index, \n",
    "              ax = ax[1][1],palette=\"crest\")\n",
    "d.set_xlabel(\"Color\", fontsize = 20)\n",
    "d.set_ylabel(\"Count\", fontsize = 20)\n",
    "d.tick_params(labelsize=15);"
   ]
  },
  {
   "cell_type": "markdown",
   "metadata": {},
   "source": [
    "#### The distribution of the age of the used cars"
   ]
  },
  {
   "cell_type": "code",
   "execution_count": null,
   "metadata": {},
   "outputs": [],
   "source": [
    "# age distribution\n",
    "plt.figure(figsize=(10,5))\n",
    "plt.rcParams[\"axes.labelsize\"] = 15\n",
    "plt.title(\"Distribution of the Age of the Used Cars\")\n",
    "plt.xlabel(\"Age of the Used Car\")\n",
    "stat = sns.kdeplot(data.age)"
   ]
  },
  {
   "cell_type": "code",
   "execution_count": null,
   "metadata": {
    "scrolled": false
   },
   "outputs": [],
   "source": [
    "# Types of used cars from different manufacturers for sale\n",
    "\n",
    "manu_type = data.groupby('manufacturer').type.value_counts()\n",
    "manu_type_df = pd.DataFrame(manu_type.unstack())\n",
    "\n",
    "plt.subplots(figsize=(20, 10))\n",
    "h1 = sns.heatmap(manu_type_df, cmap='Blues', linecolor='white', linewidth=1)\n",
    "h1.set_xlabel(\"Type\", fontsize = 20)\n",
    "h1.set_ylabel(\"Manufacturer\", fontsize = 20)\n",
    "h1.tick_params(labelsize=15);"
   ]
  },
  {
   "cell_type": "markdown",
   "metadata": {},
   "source": [
    "#### Manufacturer with most used cars for sale each year"
   ]
  },
  {
   "cell_type": "code",
   "execution_count": null,
   "metadata": {
    "scrolled": false
   },
   "outputs": [],
   "source": [
    "manf_sale_year = data.groupby('year').manufacturer.value_counts()\n",
    "manf_sale_year_df = pd.DataFrame(manf_sale_year.unstack())\n",
    "\n",
    "plt.subplots(figsize=(20, 10))\n",
    "h2 = sns.heatmap(manf_sale_year_df, cmap='icefire', linecolor='white', linewidth=1)\n",
    "h2.set_xlabel(\"Manufacturer\", fontsize = 20)\n",
    "h2.set_ylabel(\"Year\", fontsize = 20)\n",
    "h2.tick_params(labelsize=15);"
   ]
  },
  {
   "cell_type": "code",
   "execution_count": null,
   "metadata": {},
   "outputs": [],
   "source": [
    "# Time series for for-sale used cars of top 5 manufacurers each year\n",
    "manf_sale_year_df2 = manf_sale_year_df[['ford','chevrolet','toyota','honda','nissan']].copy()\n",
    "fig, ax = plt.subplots(figsize=(18, 10))\n",
    "m = sns.lineplot(data=manf_sale_year_df2)\n",
    "ax.set_xlim(2000,2021)\n",
    "ax.set_xticks(range(2000,2021))\n",
    "m.set_xlabel(\"Year\", fontsize = 20)\n",
    "m.set_ylabel(\"Count\", fontsize = 20)\n",
    "m.tick_params(labelsize=15)\n",
    "plt.show()"
   ]
  },
  {
   "cell_type": "markdown",
   "metadata": {},
   "source": [
    "#### The posted price of the used cars"
   ]
  },
  {
   "cell_type": "code",
   "execution_count": null,
   "metadata": {
    "scrolled": false
   },
   "outputs": [],
   "source": [
    "#price mean\n",
    "price_mean_manu = data[['price','manufacturer']].groupby('manufacturer').mean().sort_values(by=['price'], ascending=False)\n",
    "price_mean_type = data[['price','type']].groupby('type').mean().sort_values(by=['price'], ascending=False)\n",
    "price_mean_color = data[['price','paint_color']].groupby('paint_color').mean().sort_values(by=['price'], ascending=False)\n",
    "\n",
    "\n",
    "fig, ax =plt.subplots(1,3,figsize=(25, 15))\n",
    "fig.tight_layout(pad=10)\n",
    "ap = sns.barplot(x = 'price',y = price_mean_manu.index[:10],data=price_mean_manu.iloc[:10], \n",
    "              ax = ax[0],palette=\"ch:start=.2,rot=-.3\")\n",
    "ap.set_xlabel(\"Price Mean\", fontsize = 20)\n",
    "ap.set_ylabel(\"Manufacturer\", fontsize = 20)\n",
    "ap.tick_params(labelsize=15)\n",
    "\n",
    "bp = sns.barplot(x = 'price',y = price_mean_type.index[:10],data=price_mean_type.iloc[:10], \n",
    "              ax = ax[1],palette=\"ch:s=-.2,r=.6\")\n",
    "bp.set_xlabel(\"Price Mean\", fontsize = 20)\n",
    "bp.set_ylabel(\"Type\", fontsize = 20)\n",
    "bp.tick_params(labelsize=15)\n",
    "\n",
    "cp = sns.barplot(x = 'price',y = price_mean_color.index[:10],data=price_mean_color.iloc[:10], \n",
    "              ax = ax[2],palette=\"YlOrBr\")\n",
    "cp.set_xlabel(\"Price Mean\", fontsize = 20)\n",
    "cp.set_ylabel(\"Color\", fontsize = 20)\n",
    "cp.tick_params(labelsize=15);"
   ]
  },
  {
   "cell_type": "markdown",
   "metadata": {},
   "source": [
    "#### The region comparison of the for-sale used cars"
   ]
  },
  {
   "cell_type": "code",
   "execution_count": null,
   "metadata": {
    "scrolled": false
   },
   "outputs": [],
   "source": [
    "location = data[(data['lat']>24) & (data['lat']<50) & (data['long']>-125) & (data['long']<-65)]\n",
    "manu_loc = location[(location['manufacturer']=='ford') | \n",
    "                (location['manufacturer']=='chevrolet')| \n",
    "                (location['manufacturer']=='toyota')| \n",
    "                (location['manufacturer']=='honda')| \n",
    "                (location['manufacturer']=='nissan')]\n",
    "plt.figure(figsize=(18,10))\n",
    "plt.title('Manufacturer Compare by State')\n",
    "sns.scatterplot(data=manu_loc, x=\"long\",y=\"lat\",hue='manufacturer')\n",
    "plt.show()"
   ]
  },
  {
   "cell_type": "markdown",
   "metadata": {},
   "source": [
    "### Correlation analysis"
   ]
  },
  {
   "cell_type": "markdown",
   "metadata": {},
   "source": [
    "#### Using Pearson Correlation"
   ]
  },
  {
   "cell_type": "code",
   "execution_count": null,
   "metadata": {},
   "outputs": [],
   "source": [
    "vehicles.info()"
   ]
  },
  {
   "cell_type": "code",
   "execution_count": null,
   "metadata": {},
   "outputs": [],
   "source": [
    "vehicles.drop(['id', 'url','region_url', 'VIN', 'image_url', 'lat', 'long', 'description'], axis=1, inplace=True)\n",
    "print(vehicles.isnull().sum())"
   ]
  },
  {
   "cell_type": "code",
   "execution_count": null,
   "metadata": {},
   "outputs": [],
   "source": [
    "# sorting columns based on their total null\n",
    "null_val = pd.DataFrame(vehicles.isnull().sum(), columns = ['Nan_sum'])\n",
    "null_val = null_val[null_val['Nan_sum']>0]\n",
    "null_val['Percentage'] = (null_val['Nan_sum']/len(vehicles))*100\n",
    "null_val = null_val.sort_values(by=['Nan_sum'], ascending=False)\n",
    "null_val"
   ]
  },
  {
   "cell_type": "markdown",
   "metadata": {},
   "source": [
    "We can treat those columns whose null values differently depends on the project's goal. For the sake of this project, we are only going to keep columns which have less than 40% of missing values."
   ]
  },
  {
   "cell_type": "code",
   "execution_count": null,
   "metadata": {},
   "outputs": [],
   "source": [
    "vehicles_cleaned = vehicles[['cylinders','paint_color','drive','type','odometer','manufacturer','model','fuel','title_status','transmission','year','posting_date']]\n",
    "vehicles_cleaned.shape"
   ]
  },
  {
   "cell_type": "markdown",
   "metadata": {},
   "source": [
    "we will drop all rows with missing values."
   ]
  },
  {
   "cell_type": "code",
   "execution_count": null,
   "metadata": {},
   "outputs": [],
   "source": [
    "vehicles_data = vehicles_cleaned.dropna()\n",
    "vehicles_data"
   ]
  }
 ],
 "metadata": {
  "kernelspec": {
   "display_name": "Python 3",
   "language": "python",
   "name": "python3"
  },
  "language_info": {
   "codemirror_mode": {
    "name": "ipython",
    "version": 3
   },
   "file_extension": ".py",
   "mimetype": "text/x-python",
   "name": "python",
   "nbconvert_exporter": "python",
   "pygments_lexer": "ipython3",
   "version": "3.8.5"
  }
 },
 "nbformat": 4,
 "nbformat_minor": 4
}
